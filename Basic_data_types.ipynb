{
  "nbformat": 4,
  "nbformat_minor": 0,
  "metadata": {
    "colab": {
      "provenance": [],
      "authorship_tag": "ABX9TyN5yBL0yQMNOjIx0nKGyMwH",
      "include_colab_link": true
    },
    "kernelspec": {
      "name": "python3",
      "display_name": "Python 3"
    },
    "language_info": {
      "name": "python"
    }
  },
  "cells": [
    {
      "cell_type": "markdown",
      "metadata": {
        "id": "view-in-github",
        "colab_type": "text"
      },
      "source": [
        "<a href=\"https://colab.research.google.com/github/Son324/Practice/blob/main/Basic_data_types.ipynb\" target=\"_parent\"><img src=\"https://colab.research.google.com/assets/colab-badge.svg\" alt=\"Open In Colab\"/></a>"
      ]
    },
    {
      "cell_type": "markdown",
      "source": [
        "#🐨 Importing modules"
      ],
      "metadata": {
        "id": "HGd90mfC3iHd"
      }
    },
    {
      "cell_type": "markdown",
      "source": [
        "1. function, (class), module, package, and library\n",
        "2. Let's use the analogy of a toolbox:\n",
        " - a module is a single tool(random)\n",
        " - a package is a toolbox containing multiple tools(gTTS)\n",
        " - a library is a set of toolboxes designed for a specific purpose"
      ],
      "metadata": {
        "id": "79wSmUJm3orA"
      }
    },
    {
      "cell_type": "markdown",
      "source": [
        "## A. 'gTTS' package"
      ],
      "metadata": {
        "id": "s_YEfODQ4LoM"
      }
    },
    {
      "cell_type": "code",
      "execution_count": null,
      "metadata": {
        "id": "oIbXkEMa2ayr"
      },
      "outputs": [],
      "source": [
        "!pip install gtts\n",
        "!pip install IPython\n",
        "from gtts import gTTS\n",
        "from IPython.display import Audio, display"
      ]
    },
    {
      "cell_type": "markdown",
      "source": [
        "## B. 'random' module"
      ],
      "metadata": {
        "id": "h453d8dJ4TYo"
      }
    },
    {
      "cell_type": "code",
      "source": [
        "import random"
      ],
      "metadata": {
        "id": "nFUQUIBA3go8"
      },
      "execution_count": 2,
      "outputs": []
    },
    {
      "cell_type": "code",
      "source": [
        "random.randint(1,10)"
      ],
      "metadata": {
        "colab": {
          "base_uri": "https://localhost:8080/"
        },
        "id": "Gek4v9rE8Kbr",
        "outputId": "fcecaf4f-3743-46d8-a87b-9f5fdd08a66f"
      },
      "execution_count": 6,
      "outputs": [
        {
          "output_type": "execute_result",
          "data": {
            "text/plain": [
              "7"
            ]
          },
          "metadata": {},
          "execution_count": 6
        }
      ]
    },
    {
      "cell_type": "code",
      "source": [
        "a1 = random.randint(1,10)\n",
        "a1*10"
      ],
      "metadata": {
        "colab": {
          "base_uri": "https://localhost:8080/"
        },
        "id": "tyKBP1lr8a0h",
        "outputId": "2805fde5-45c7-43a9-97e7-a9dc9f58db3a"
      },
      "execution_count": 9,
      "outputs": [
        {
          "output_type": "execute_result",
          "data": {
            "text/plain": [
              "60"
            ]
          },
          "metadata": {},
          "execution_count": 9
        }
      ]
    },
    {
      "cell_type": "markdown",
      "source": [
        "#🐻 Basic data types"
      ],
      "metadata": {
        "id": "cR_ZY4B78svd"
      }
    },
    {
      "cell_type": "markdown",
      "source": [
        "## A. strings"
      ],
      "metadata": {
        "id": "12NgZdiC8yCt"
      }
    },
    {
      "cell_type": "code",
      "source": [
        "a2 = \"Welcome\"\n",
        "a3 = \"2023\"\n",
        "\n",
        "print(a2 + \",\" + a3)"
      ],
      "metadata": {
        "colab": {
          "base_uri": "https://localhost:8080/"
        },
        "id": "CsUf09wN803p",
        "outputId": "85a81024-523f-4161-dab6-7a2f48c778d5"
      },
      "execution_count": 15,
      "outputs": [
        {
          "output_type": "stream",
          "name": "stdout",
          "text": [
            "Welcome,2023\n"
          ]
        }
      ]
    },
    {
      "cell_type": "code",
      "source": [
        "a4 = \"화이팅\"\n",
        "\n",
        "a4 * 10"
      ],
      "metadata": {
        "colab": {
          "base_uri": "https://localhost:8080/",
          "height": 35
        },
        "id": "XxcsnKWF9EK9",
        "outputId": "36f1cc38-88b8-4d7b-fba7-a9b93d222aec"
      },
      "execution_count": 19,
      "outputs": [
        {
          "output_type": "execute_result",
          "data": {
            "text/plain": [
              "'화이팅화이팅화이팅화이팅화이팅화이팅화이팅화이팅화이팅화이팅'"
            ],
            "application/vnd.google.colaboratory.intrinsic+json": {
              "type": "string"
            }
          },
          "metadata": {},
          "execution_count": 19
        }
      ]
    },
    {
      "cell_type": "code",
      "source": [
        "type(a2)"
      ],
      "metadata": {
        "colab": {
          "base_uri": "https://localhost:8080/"
        },
        "id": "GBqVfXTb9UIZ",
        "outputId": "538252ad-2a99-43e8-9ba4-8277d5d19450"
      },
      "execution_count": 20,
      "outputs": [
        {
          "output_type": "execute_result",
          "data": {
            "text/plain": [
              "str"
            ]
          },
          "metadata": {},
          "execution_count": 20
        }
      ]
    },
    {
      "cell_type": "markdown",
      "source": [
        "## B. Integers, float"
      ],
      "metadata": {
        "id": "yhGlLQN29ZT_"
      }
    },
    {
      "cell_type": "code",
      "source": [
        "x1 = 45\n",
        "y1 = 0.5\n",
        "\n",
        "z1 = x1 * y1\n",
        "z1"
      ],
      "metadata": {
        "colab": {
          "base_uri": "https://localhost:8080/"
        },
        "id": "WHRVhhtX9dLB",
        "outputId": "78c91cf2-897b-4285-ea2d-7a60855760e5"
      },
      "execution_count": 24,
      "outputs": [
        {
          "output_type": "execute_result",
          "data": {
            "text/plain": [
              "22.5"
            ]
          },
          "metadata": {},
          "execution_count": 24
        }
      ]
    },
    {
      "cell_type": "code",
      "source": [
        "type(z1)"
      ],
      "metadata": {
        "colab": {
          "base_uri": "https://localhost:8080/"
        },
        "id": "c-SPxw_v9wqp",
        "outputId": "139875b0-536c-4810-bfb1-64e897f11177"
      },
      "execution_count": 25,
      "outputs": [
        {
          "output_type": "execute_result",
          "data": {
            "text/plain": [
              "float"
            ]
          },
          "metadata": {},
          "execution_count": 25
        }
      ]
    },
    {
      "cell_type": "markdown",
      "source": [
        "## C. List datatype"
      ],
      "metadata": {
        "id": "UgJ2rdDa9zVO"
      }
    },
    {
      "cell_type": "code",
      "source": [
        "x2 = [1,2,3]\n",
        "x2"
      ],
      "metadata": {
        "colab": {
          "base_uri": "https://localhost:8080/"
        },
        "id": "DNAvd6dI92OE",
        "outputId": "d893ec05-481e-4618-a471-672f8a438018"
      },
      "execution_count": 31,
      "outputs": [
        {
          "output_type": "execute_result",
          "data": {
            "text/plain": [
              "[1, 2, 3]"
            ]
          },
          "metadata": {},
          "execution_count": 31
        }
      ]
    },
    {
      "cell_type": "code",
      "source": [
        "type(x2)"
      ],
      "metadata": {
        "colab": {
          "base_uri": "https://localhost:8080/"
        },
        "id": "ot1VG__l95px",
        "outputId": "84782ab3-e4fc-4b93-cf71-7abd23248584"
      },
      "execution_count": 32,
      "outputs": [
        {
          "output_type": "execute_result",
          "data": {
            "text/plain": [
              "list"
            ]
          },
          "metadata": {},
          "execution_count": 32
        }
      ]
    },
    {
      "cell_type": "code",
      "source": [
        "x3 = range(1,10) #integer\n",
        "list(x3)"
      ],
      "metadata": {
        "colab": {
          "base_uri": "https://localhost:8080/"
        },
        "id": "lnAXNSIQ-B_s",
        "outputId": "d0bc375c-15fc-4b1c-e1d2-63ff2d736205"
      },
      "execution_count": 33,
      "outputs": [
        {
          "output_type": "execute_result",
          "data": {
            "text/plain": [
              "[1, 2, 3, 4, 5, 6, 7, 8, 9]"
            ]
          },
          "metadata": {},
          "execution_count": 33
        }
      ]
    },
    {
      "cell_type": "code",
      "source": [
        "x4 = \"John\" #string\n",
        "list(x4)"
      ],
      "metadata": {
        "colab": {
          "base_uri": "https://localhost:8080/"
        },
        "id": "B28MaNAZ-Pnd",
        "outputId": "71f00f77-5109-489b-dca0-34c98a26b60e"
      },
      "execution_count": 35,
      "outputs": [
        {
          "output_type": "execute_result",
          "data": {
            "text/plain": [
              "['J', 'o', 'h', 'n']"
            ]
          },
          "metadata": {},
          "execution_count": 35
        }
      ]
    },
    {
      "cell_type": "markdown",
      "source": [
        "## D. Dictionary datatype {key:value}"
      ],
      "metadata": {
        "id": "VKO0JYO7-bhF"
      }
    },
    {
      "cell_type": "code",
      "source": [
        "mydict = {\"API\": \"Application Programming Interface\"}\n",
        "mydict[\"API\"]"
      ],
      "metadata": {
        "colab": {
          "base_uri": "https://localhost:8080/",
          "height": 35
        },
        "id": "li0b4bdb-rDW",
        "outputId": "7130119f-aeef-43d3-e5ec-3bdceb398133"
      },
      "execution_count": 37,
      "outputs": [
        {
          "output_type": "execute_result",
          "data": {
            "text/plain": [
              "'Application Programming Interface'"
            ],
            "application/vnd.google.colaboratory.intrinsic+json": {
              "type": "string"
            }
          },
          "metadata": {},
          "execution_count": 37
        }
      ]
    },
    {
      "cell_type": "code",
      "source": [
        "mydict = {\"GPT\": \"Generative Pretrained Transformer\"}\n",
        "mydict[\"GPT\"]"
      ],
      "metadata": {
        "colab": {
          "base_uri": "https://localhost:8080/",
          "height": 35
        },
        "id": "mfZSw1Tq-6dM",
        "outputId": "9cf74395-1b2b-49d4-832c-e33ff3f0b331"
      },
      "execution_count": 38,
      "outputs": [
        {
          "output_type": "execute_result",
          "data": {
            "text/plain": [
              "'Generative Pretrained Transformer'"
            ],
            "application/vnd.google.colaboratory.intrinsic+json": {
              "type": "string"
            }
          },
          "metadata": {},
          "execution_count": 38
        }
      ]
    },
    {
      "cell_type": "code",
      "source": [
        "class_size = {\"Class A\": 25, \"Class B\": 30, \"Class C\": 32}\n",
        "class_size[\"Class C\"]"
      ],
      "metadata": {
        "colab": {
          "base_uri": "https://localhost:8080/"
        },
        "id": "U5shXL7P_QZq",
        "outputId": "e4fd0ab9-f212-49e6-f637-bbe8f8249a0b"
      },
      "execution_count": 39,
      "outputs": [
        {
          "output_type": "execute_result",
          "data": {
            "text/plain": [
              "32"
            ]
          },
          "metadata": {},
          "execution_count": 39
        }
      ]
    },
    {
      "cell_type": "markdown",
      "source": [
        "#🐯 Variables"
      ],
      "metadata": {
        "id": "68Og2pNn_itc"
      }
    },
    {
      "cell_type": "markdown",
      "source": [
        "## A. Input/Output functions"
      ],
      "metadata": {
        "id": "C4XScpBZ_r-b"
      }
    },
    {
      "cell_type": "code",
      "source": [
        "mynumber = 2\n",
        "mynumber"
      ],
      "metadata": {
        "colab": {
          "base_uri": "https://localhost:8080/"
        },
        "id": "b69O1jLF_x7k",
        "outputId": "527a0271-74c3-4df3-99e5-9f2d14cb7d38"
      },
      "execution_count": 54,
      "outputs": [
        {
          "output_type": "execute_result",
          "data": {
            "text/plain": [
              "2"
            ]
          },
          "metadata": {},
          "execution_count": 54
        }
      ]
    },
    {
      "cell_type": "code",
      "source": [
        "yournumber = input() #input(\"What is your number?: \") 해도 가능함\n",
        "yournumber #print(yournumber)하면 나옴, BUT print(\"yournumber\") 하면 나오지 않음"
      ],
      "metadata": {
        "colab": {
          "base_uri": "https://localhost:8080/",
          "height": 54
        },
        "id": "eNokZWJRAMAi",
        "outputId": "442d06a1-262e-4218-e9b2-d200b5615ec4"
      },
      "execution_count": 57,
      "outputs": [
        {
          "name": "stdout",
          "output_type": "stream",
          "text": [
            "3\n"
          ]
        },
        {
          "output_type": "execute_result",
          "data": {
            "text/plain": [
              "'3'"
            ],
            "application/vnd.google.colaboratory.intrinsic+json": {
              "type": "string"
            }
          },
          "metadata": {},
          "execution_count": 57
        }
      ]
    },
    {
      "cell_type": "code",
      "source": [
        "yournumber * 5 #결과가 15로 나오지 않는 것을 보면, 아마 yournumber가 string일 것"
      ],
      "metadata": {
        "colab": {
          "base_uri": "https://localhost:8080/",
          "height": 35
        },
        "id": "8O0RC9PCAzee",
        "outputId": "e66addd8-11cc-40a4-8696-ebbad5516c93"
      },
      "execution_count": 58,
      "outputs": [
        {
          "output_type": "execute_result",
          "data": {
            "text/plain": [
              "'33333'"
            ],
            "application/vnd.google.colaboratory.intrinsic+json": {
              "type": "string"
            }
          },
          "metadata": {},
          "execution_count": 58
        }
      ]
    },
    {
      "cell_type": "code",
      "source": [
        "type(yournumber)"
      ],
      "metadata": {
        "colab": {
          "base_uri": "https://localhost:8080/"
        },
        "id": "_2x306cWBAIt",
        "outputId": "de0b9f26-b1cc-4348-b16c-696c410989e1"
      },
      "execution_count": 59,
      "outputs": [
        {
          "output_type": "execute_result",
          "data": {
            "text/plain": [
              "str"
            ]
          },
          "metadata": {},
          "execution_count": 59
        }
      ]
    },
    {
      "cell_type": "code",
      "source": [
        "yournumber = int(yournumber) #값의 종류를 string에서 integer로 바꿀 수 있음\n",
        "type(yournumber)"
      ],
      "metadata": {
        "colab": {
          "base_uri": "https://localhost:8080/"
        },
        "id": "JYCphkudBDYO",
        "outputId": "67cbd2d7-5044-44dc-c26f-7b0f19f33a19"
      },
      "execution_count": 60,
      "outputs": [
        {
          "output_type": "execute_result",
          "data": {
            "text/plain": [
              "int"
            ]
          },
          "metadata": {},
          "execution_count": 60
        }
      ]
    },
    {
      "cell_type": "code",
      "source": [
        "yournumber * 5 #yournumber 값을 string에서 integer로 바꿈, 연산 가능"
      ],
      "metadata": {
        "colab": {
          "base_uri": "https://localhost:8080/"
        },
        "id": "6uLg8YiABSia",
        "outputId": "c29a21ad-32bc-4381-ba0f-cdb8f5705e45"
      },
      "execution_count": 61,
      "outputs": [
        {
          "output_type": "execute_result",
          "data": {
            "text/plain": [
              "15"
            ]
          },
          "metadata": {},
          "execution_count": 61
        }
      ]
    },
    {
      "cell_type": "code",
      "source": [
        "print(\"대한민국\")\n",
        "\n",
        "a2 = \"화이팅!\"\n",
        "print(a2 * 10)\n",
        "print(\"화이팅 10번 합시다: \", a2 * 10)\n",
        "print(a2)\n",
        "a2"
      ],
      "metadata": {
        "colab": {
          "base_uri": "https://localhost:8080/",
          "height": 128
        },
        "id": "ZFG2XOgRBnW8",
        "outputId": "11b92df4-b950-4d8d-fd94-03ac4787c6ad"
      },
      "execution_count": 70,
      "outputs": [
        {
          "output_type": "stream",
          "name": "stdout",
          "text": [
            "대한민국\n",
            "화이팅!화이팅!화이팅!화이팅!화이팅!화이팅!화이팅!화이팅!화이팅!화이팅!\n",
            "화이팅 10번 합시다:  화이팅!화이팅!화이팅!화이팅!화이팅!화이팅!화이팅!화이팅!화이팅!화이팅!\n",
            "화이팅!\n"
          ]
        },
        {
          "output_type": "execute_result",
          "data": {
            "text/plain": [
              "'화이팅!'"
            ],
            "application/vnd.google.colaboratory.intrinsic+json": {
              "type": "string"
            }
          },
          "metadata": {},
          "execution_count": 70
        }
      ]
    },
    {
      "cell_type": "code",
      "source": [
        "a1 = random.randint(1,10)\n",
        "print(\"Random integer between 1 and 10: \", a1)"
      ],
      "metadata": {
        "colab": {
          "base_uri": "https://localhost:8080/"
        },
        "id": "Z4Dv4btaB72j",
        "outputId": "cb9d4c28-130d-431d-c015-689d923c7b38"
      },
      "execution_count": 81,
      "outputs": [
        {
          "output_type": "stream",
          "name": "stdout",
          "text": [
            "Random integer between 1 and 10:  5\n"
          ]
        }
      ]
    },
    {
      "cell_type": "code",
      "source": [
        "day = input(\"How many days: \") #day = string 일 때\n",
        "num_day = int(day) #day를 integer로 바꿈\n",
        "hours = 24\n",
        "total = num_day * hours\n",
        "print(\"The total hours passed since Mary met John are: \", total, \"hours.\")"
      ],
      "metadata": {
        "colab": {
          "base_uri": "https://localhost:8080/"
        },
        "id": "lL0HJtc3DMNq",
        "outputId": "2c7ce02c-acd4-4e90-c4a9-4db24cf3f72f"
      },
      "execution_count": 2,
      "outputs": [
        {
          "output_type": "stream",
          "name": "stdout",
          "text": [
            "How many days: 3\n",
            "The total hours passed since Mary met John are:  72 hours.\n"
          ]
        }
      ]
    },
    {
      "cell_type": "code",
      "source": [
        "day = input(\"How many days: \")\n",
        "num_day = int(day)\n",
        "minutes = 1440\n",
        "total1 = num_day * minutes\n",
        "print(\"The total minutes passed since Mary met John are: \", total1, \"minutes.\")"
      ],
      "metadata": {
        "colab": {
          "base_uri": "https://localhost:8080/"
        },
        "id": "lxdzaDT5y01c",
        "outputId": "93720aa1-b393-4863-8ea9-548b0a015e9e"
      },
      "execution_count": 3,
      "outputs": [
        {
          "output_type": "stream",
          "name": "stdout",
          "text": [
            "How many days: 1\n",
            "The total minutes passed since Mary met John are:  1440 minutes.\n"
          ]
        }
      ]
    },
    {
      "cell_type": "markdown",
      "source": [
        "#🦁 String manipulation: strip() and .lower()"
      ],
      "metadata": {
        "id": "Urk7p6myzvcd"
      }
    },
    {
      "cell_type": "markdown",
      "source": [
        "## A. data.strip()"
      ],
      "metadata": {
        "id": "Dp9PL7LR0XsC"
      }
    },
    {
      "cell_type": "code",
      "source": [
        "w1 = \" Mary is friendly. \"\n",
        "w1"
      ],
      "metadata": {
        "colab": {
          "base_uri": "https://localhost:8080/",
          "height": 35
        },
        "id": "Edd7X_Mlz4GS",
        "outputId": "31bfaf55-94d0-47dd-9a9a-3c365e3b842f"
      },
      "execution_count": 10,
      "outputs": [
        {
          "output_type": "execute_result",
          "data": {
            "text/plain": [
              "' Mary is friendly. '"
            ],
            "application/vnd.google.colaboratory.intrinsic+json": {
              "type": "string"
            }
          },
          "metadata": {},
          "execution_count": 10
        }
      ]
    },
    {
      "cell_type": "code",
      "source": [
        "w1.strip()"
      ],
      "metadata": {
        "colab": {
          "base_uri": "https://localhost:8080/",
          "height": 35
        },
        "id": "k8ANlv8e0LQA",
        "outputId": "c138e365-6a3a-4a23-c3bd-93b335f210f6"
      },
      "execution_count": 11,
      "outputs": [
        {
          "output_type": "execute_result",
          "data": {
            "text/plain": [
              "'Mary is friendly.'"
            ],
            "application/vnd.google.colaboratory.intrinsic+json": {
              "type": "string"
            }
          },
          "metadata": {},
          "execution_count": 11
        }
      ]
    },
    {
      "cell_type": "markdown",
      "source": [
        "## B. data.split()"
      ],
      "metadata": {
        "id": "7pIz-ZUW0r-a"
      }
    },
    {
      "cell_type": "code",
      "source": [
        "w1 = \"Mary is friendly.\"\n",
        "w1.split()"
      ],
      "metadata": {
        "colab": {
          "base_uri": "https://localhost:8080/"
        },
        "id": "kpSZMlpb0urH",
        "outputId": "7cc85317-87ef-466b-9c4f-c49be8cd65a2"
      },
      "execution_count": 12,
      "outputs": [
        {
          "output_type": "execute_result",
          "data": {
            "text/plain": [
              "['Mary', 'is', 'friendly.']"
            ]
          },
          "metadata": {},
          "execution_count": 12
        }
      ]
    },
    {
      "cell_type": "code",
      "source": [
        "m1 = \"Mary\"\n",
        "m2 = \"is\"\n",
        "m3 = \"friendly\"\n",
        "\n",
        "wordlist = [m1, m2, m3]\n",
        "wordlist"
      ],
      "metadata": {
        "colab": {
          "base_uri": "https://localhost:8080/"
        },
        "id": "6WJHASOH0_r6",
        "outputId": "396c39cd-5cab-4e68-9bce-5f4c73f6a59b"
      },
      "execution_count": 15,
      "outputs": [
        {
          "output_type": "execute_result",
          "data": {
            "text/plain": [
              "['Mary', 'is', 'friendly']"
            ]
          },
          "metadata": {},
          "execution_count": 15
        }
      ]
    },
    {
      "cell_type": "code",
      "source": [
        "w2 = \"out-of-date\"\n",
        "w2.split(\"-\")"
      ],
      "metadata": {
        "colab": {
          "base_uri": "https://localhost:8080/"
        },
        "id": "OjKN_tem045W",
        "outputId": "f984b5b1-b548-461d-9b08-9827b58b609b"
      },
      "execution_count": 14,
      "outputs": [
        {
          "output_type": "execute_result",
          "data": {
            "text/plain": [
              "['out', 'of', 'date']"
            ]
          },
          "metadata": {},
          "execution_count": 14
        }
      ]
    },
    {
      "cell_type": "code",
      "source": [
        "w2 = \"out-of-date\"\n",
        "mysplit = w2.split(\"-\")\n",
        "mysplit"
      ],
      "metadata": {
        "colab": {
          "base_uri": "https://localhost:8080/"
        },
        "id": "zuVyPxO51OVe",
        "outputId": "76e25ed2-c385-4e57-f81c-0c3f751d2d2e"
      },
      "execution_count": 16,
      "outputs": [
        {
          "output_type": "execute_result",
          "data": {
            "text/plain": [
              "['out', 'of', 'date']"
            ]
          },
          "metadata": {},
          "execution_count": 16
        }
      ]
    },
    {
      "cell_type": "markdown",
      "source": [
        "## C. ' '.join()"
      ],
      "metadata": {
        "id": "wCZ9Tslz1WRg"
      }
    },
    {
      "cell_type": "code",
      "source": [
        "' '.join(wordlist)"
      ],
      "metadata": {
        "colab": {
          "base_uri": "https://localhost:8080/",
          "height": 35
        },
        "id": "b6K_9FQA1crq",
        "outputId": "782489a4-668d-41d7-8b06-2b42ade34642"
      },
      "execution_count": 20,
      "outputs": [
        {
          "output_type": "execute_result",
          "data": {
            "text/plain": [
              "'Mary is friendly'"
            ],
            "application/vnd.google.colaboratory.intrinsic+json": {
              "type": "string"
            }
          },
          "metadata": {},
          "execution_count": 20
        }
      ]
    },
    {
      "cell_type": "code",
      "source": [
        "'-'.join(wordlist)"
      ],
      "metadata": {
        "colab": {
          "base_uri": "https://localhost:8080/",
          "height": 35
        },
        "id": "5DNPTCiX1qlj",
        "outputId": "75f767e1-66ac-4341-89af-06c9bae29c20"
      },
      "execution_count": 21,
      "outputs": [
        {
          "output_type": "execute_result",
          "data": {
            "text/plain": [
              "'Mary-is-friendly'"
            ],
            "application/vnd.google.colaboratory.intrinsic+json": {
              "type": "string"
            }
          },
          "metadata": {},
          "execution_count": 21
        }
      ]
    },
    {
      "cell_type": "code",
      "source": [
        "' '.join(mysplit)"
      ],
      "metadata": {
        "colab": {
          "base_uri": "https://localhost:8080/",
          "height": 35
        },
        "id": "-iyt4HJH1v6W",
        "outputId": "44ec3578-b9b4-4c88-90dc-fd53402c9dbd"
      },
      "execution_count": 22,
      "outputs": [
        {
          "output_type": "execute_result",
          "data": {
            "text/plain": [
              "'out of date'"
            ],
            "application/vnd.google.colaboratory.intrinsic+json": {
              "type": "string"
            }
          },
          "metadata": {},
          "execution_count": 22
        }
      ]
    },
    {
      "cell_type": "markdown",
      "source": [
        "## D. data.lower(), data.upper()"
      ],
      "metadata": {
        "id": "IvRqSYIK12sD"
      }
    },
    {
      "cell_type": "code",
      "source": [
        "m1.lower()"
      ],
      "metadata": {
        "colab": {
          "base_uri": "https://localhost:8080/",
          "height": 35
        },
        "id": "FTUVwOXI163W",
        "outputId": "51ca3522-447e-4bea-b810-9f288923ef47"
      },
      "execution_count": 23,
      "outputs": [
        {
          "output_type": "execute_result",
          "data": {
            "text/plain": [
              "'mary'"
            ],
            "application/vnd.google.colaboratory.intrinsic+json": {
              "type": "string"
            }
          },
          "metadata": {},
          "execution_count": 23
        }
      ]
    },
    {
      "cell_type": "code",
      "source": [
        "m1.upper()"
      ],
      "metadata": {
        "colab": {
          "base_uri": "https://localhost:8080/",
          "height": 35
        },
        "id": "_twD5fdf2AP-",
        "outputId": "7a568000-51e4-4f4b-fd77-2b59f7867001"
      },
      "execution_count": 24,
      "outputs": [
        {
          "output_type": "execute_result",
          "data": {
            "text/plain": [
              "'MARY'"
            ],
            "application/vnd.google.colaboratory.intrinsic+json": {
              "type": "string"
            }
          },
          "metadata": {},
          "execution_count": 24
        }
      ]
    },
    {
      "cell_type": "markdown",
      "source": [
        "## E. String index"
      ],
      "metadata": {
        "id": "13S65Lcf2K8f"
      }
    },
    {
      "cell_type": "code",
      "source": [
        "len(m1) #string의 수"
      ],
      "metadata": {
        "colab": {
          "base_uri": "https://localhost:8080/"
        },
        "id": "HFTUvaAM2EcV",
        "outputId": "737dbaa0-5648-4b4d-8f1e-19267683821e"
      },
      "execution_count": 25,
      "outputs": [
        {
          "output_type": "execute_result",
          "data": {
            "text/plain": [
              "4"
            ]
          },
          "metadata": {},
          "execution_count": 25
        }
      ]
    },
    {
      "cell_type": "code",
      "source": [
        "m1[0]"
      ],
      "metadata": {
        "colab": {
          "base_uri": "https://localhost:8080/",
          "height": 35
        },
        "id": "QOkrGnYQ2Oh1",
        "outputId": "e12857c9-0c10-43d6-8b5b-3d1f1f132a48"
      },
      "execution_count": 27,
      "outputs": [
        {
          "output_type": "execute_result",
          "data": {
            "text/plain": [
              "'M'"
            ],
            "application/vnd.google.colaboratory.intrinsic+json": {
              "type": "string"
            }
          },
          "metadata": {},
          "execution_count": 27
        }
      ]
    },
    {
      "cell_type": "code",
      "source": [
        "m1[-1]"
      ],
      "metadata": {
        "colab": {
          "base_uri": "https://localhost:8080/",
          "height": 35
        },
        "id": "SRGsPAgd2VoN",
        "outputId": "4ef2fac7-4e46-4f75-89d1-fecd34b2b961"
      },
      "execution_count": 29,
      "outputs": [
        {
          "output_type": "execute_result",
          "data": {
            "text/plain": [
              "'y'"
            ],
            "application/vnd.google.colaboratory.intrinsic+json": {
              "type": "string"
            }
          },
          "metadata": {},
          "execution_count": 29
        }
      ]
    },
    {
      "cell_type": "code",
      "source": [
        "m1[0:]"
      ],
      "metadata": {
        "colab": {
          "base_uri": "https://localhost:8080/",
          "height": 35
        },
        "id": "4Tt7PHY32YHV",
        "outputId": "0bde0684-0769-4c29-9dff-a92156a338ac"
      },
      "execution_count": 30,
      "outputs": [
        {
          "output_type": "execute_result",
          "data": {
            "text/plain": [
              "'Mary'"
            ],
            "application/vnd.google.colaboratory.intrinsic+json": {
              "type": "string"
            }
          },
          "metadata": {},
          "execution_count": 30
        }
      ]
    },
    {
      "cell_type": "code",
      "source": [
        "m1[:]"
      ],
      "metadata": {
        "colab": {
          "base_uri": "https://localhost:8080/",
          "height": 35
        },
        "id": "VhOKDB_D2aGT",
        "outputId": "f3725aac-3b81-4dd1-a422-18dd166a3a5b"
      },
      "execution_count": 32,
      "outputs": [
        {
          "output_type": "execute_result",
          "data": {
            "text/plain": [
              "'Mary'"
            ],
            "application/vnd.google.colaboratory.intrinsic+json": {
              "type": "string"
            }
          },
          "metadata": {},
          "execution_count": 32
        }
      ]
    },
    {
      "cell_type": "code",
      "source": [
        "m1[1:3]"
      ],
      "metadata": {
        "colab": {
          "base_uri": "https://localhost:8080/",
          "height": 35
        },
        "id": "vg6GK9yk2dU3",
        "outputId": "43418aa5-0af5-46e1-e257-6be0dad10eb8"
      },
      "execution_count": 34,
      "outputs": [
        {
          "output_type": "execute_result",
          "data": {
            "text/plain": [
              "'ar'"
            ],
            "application/vnd.google.colaboratory.intrinsic+json": {
              "type": "string"
            }
          },
          "metadata": {},
          "execution_count": 34
        }
      ]
    },
    {
      "cell_type": "code",
      "source": [
        "m = \"mary\"\n",
        "ini = m[0].upper()\n",
        "ini\n",
        "m0 = ini + m[1:]\n",
        "print(m0)"
      ],
      "metadata": {
        "colab": {
          "base_uri": "https://localhost:8080/"
        },
        "id": "GWtZJUPw2jqh",
        "outputId": "fc71ae32-70c0-4e9d-a623-02ae234ce296"
      },
      "execution_count": 37,
      "outputs": [
        {
          "output_type": "stream",
          "name": "stdout",
          "text": [
            "Mary\n"
          ]
        }
      ]
    },
    {
      "cell_type": "markdown",
      "source": [
        "#😋 Convert a statement to a yes-no question"
      ],
      "metadata": {
        "id": "RTHoUERM3DY0"
      }
    },
    {
      "cell_type": "code",
      "source": [
        "m1 = \"Mary\"; m2 = \"is\"; m3 = \"friendly.\"\n",
        "capital = m2[0].upper() + m2[1:]\n",
        "\n",
        "sentence = capital + \" \" + m1 + \" \" + m3\n",
        "sentence1 = sentence[:-1]\n",
        "sentence2 = sentence1 + \"?\"\n",
        "sentence2"
      ],
      "metadata": {
        "colab": {
          "base_uri": "https://localhost:8080/",
          "height": 35
        },
        "id": "0OYn8hQl3TrY",
        "outputId": "c8478997-96d6-4269-d456-fe69e0e4b43c"
      },
      "execution_count": 58,
      "outputs": [
        {
          "output_type": "execute_result",
          "data": {
            "text/plain": [
              "'Is Mary friendly?'"
            ],
            "application/vnd.google.colaboratory.intrinsic+json": {
              "type": "string"
            }
          },
          "metadata": {},
          "execution_count": 58
        }
      ]
    },
    {
      "cell_type": "code",
      "source": [
        "w1 = \"Mary is friendly.\"\n",
        "a = w1.split()\n",
        "m1 = a[0]\n",
        "m2 = a[1]\n",
        "m3 = a[2]\n",
        "\n",
        "cap = m2[0].upper() + m2[1:]\n",
        "\n",
        "s = cap + \" \" + m1 + \" \" + m3\n",
        "\n",
        "s1 = s[:-1]\n",
        "s2 = s1 + \"?\"\n",
        "s2"
      ],
      "metadata": {
        "colab": {
          "base_uri": "https://localhost:8080/",
          "height": 35
        },
        "id": "73Up4FVx3tT2",
        "outputId": "0114d6e6-9995-4962-c051-6dc3fcfb168e"
      },
      "execution_count": 51,
      "outputs": [
        {
          "output_type": "execute_result",
          "data": {
            "text/plain": [
              "'Is Mary friendly?'"
            ],
            "application/vnd.google.colaboratory.intrinsic+json": {
              "type": "string"
            }
          },
          "metadata": {},
          "execution_count": 51
        }
      ]
    },
    {
      "cell_type": "code",
      "source": [
        "w1 = input()\n",
        "a = w1.split()\n",
        "m1 = a[0]\n",
        "m2 = a[1]\n",
        "m3 = a[2]\n",
        "\n",
        "cap = m2[0].upper() + m2[1:]\n",
        "\n",
        "s = cap + \" \" + m1 + \" \" + m3\n",
        "\n",
        "s1 = s[:-1]\n",
        "s2 = s1 + \"?\"\n",
        "s2"
      ],
      "metadata": {
        "colab": {
          "base_uri": "https://localhost:8080/",
          "height": 54
        },
        "id": "tHcsls_s5LbT",
        "outputId": "cc8f9f14-e275-4002-abe6-0718d04119c8"
      },
      "execution_count": 52,
      "outputs": [
        {
          "name": "stdout",
          "output_type": "stream",
          "text": [
            "Ben is good.\n"
          ]
        },
        {
          "output_type": "execute_result",
          "data": {
            "text/plain": [
              "'Is Ben good?'"
            ],
            "application/vnd.google.colaboratory.intrinsic+json": {
              "type": "string"
            }
          },
          "metadata": {},
          "execution_count": 52
        }
      ]
    },
    {
      "cell_type": "markdown",
      "source": [
        "#🐶 Control structures: for loops, while loops, and conditional statement"
      ],
      "metadata": {
        "id": "EkmTJ6q36ixE"
      }
    },
    {
      "cell_type": "markdown",
      "source": [
        "## A. for loops"
      ],
      "metadata": {
        "id": "08kgM-IA6-wg"
      }
    },
    {
      "cell_type": "code",
      "source": [
        "number = 2\n",
        "print(number ** 2)"
      ],
      "metadata": {
        "colab": {
          "base_uri": "https://localhost:8080/"
        },
        "id": "Rl4Ttzyh7BcC",
        "outputId": "5357bbcc-68bb-4d7a-be6b-95cea3bdd548"
      },
      "execution_count": 59,
      "outputs": [
        {
          "output_type": "stream",
          "name": "stdout",
          "text": [
            "4\n"
          ]
        }
      ]
    },
    {
      "cell_type": "code",
      "source": [
        "numbers = [1,2,3,4,5]\n",
        "for num in numbers:\n",
        "  print(num ** 2)"
      ],
      "metadata": {
        "colab": {
          "base_uri": "https://localhost:8080/"
        },
        "id": "FcA_CpvO7Hby",
        "outputId": "2692c01b-6d17-49bf-8666-0c8edc313b15"
      },
      "execution_count": 61,
      "outputs": [
        {
          "output_type": "stream",
          "name": "stdout",
          "text": [
            "1\n",
            "4\n",
            "9\n",
            "16\n",
            "25\n"
          ]
        }
      ]
    },
    {
      "cell_type": "code",
      "source": [
        "numbers = [1,2,3,4,5]\n",
        "squared = []\n",
        "\n",
        "for i in numbers:\n",
        "  s = i ** 2\n",
        "  squared.append(s)\n",
        "\n",
        "  print(squared)"
      ],
      "metadata": {
        "colab": {
          "base_uri": "https://localhost:8080/"
        },
        "id": "U_iIq8By7a5m",
        "outputId": "4e262502-d3e4-43aa-dbbe-9e660a2acffa"
      },
      "execution_count": 63,
      "outputs": [
        {
          "output_type": "stream",
          "name": "stdout",
          "text": [
            "[1]\n",
            "[1, 4]\n",
            "[1, 4, 9]\n",
            "[1, 4, 9, 16]\n",
            "[1, 4, 9, 16, 25]\n"
          ]
        }
      ]
    },
    {
      "cell_type": "code",
      "source": [
        "num_names = input(\"How many names? \")\n",
        "num_names = int(num_names)\n",
        "\n",
        "attendance = []\n",
        "\n",
        "for i in range(0, num_names):\n",
        "  name = input()\n",
        "  attendance.append(name)\n",
        "\n",
        "print(attendance)"
      ],
      "metadata": {
        "colab": {
          "base_uri": "https://localhost:8080/"
        },
        "id": "ox-x5DvE741H",
        "outputId": "e45b875d-55d4-420a-e946-09a7443a298b"
      },
      "execution_count": 65,
      "outputs": [
        {
          "output_type": "stream",
          "name": "stdout",
          "text": [
            "How many names? 3\n",
            "Harry\n",
            "John\n",
            "Biden\n",
            "['Harry', 'John', 'Biden']\n"
          ]
        }
      ]
    },
    {
      "cell_type": "code",
      "source": [
        "len(attendance)"
      ],
      "metadata": {
        "colab": {
          "base_uri": "https://localhost:8080/"
        },
        "id": "zQxEfGi_8dLB",
        "outputId": "dff90ec9-5acc-4434-ac9e-f152534fdd7b"
      },
      "execution_count": 66,
      "outputs": [
        {
          "output_type": "execute_result",
          "data": {
            "text/plain": [
              "3"
            ]
          },
          "metadata": {},
          "execution_count": 66
        }
      ]
    }
  ]
}