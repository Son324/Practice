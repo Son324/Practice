{
  "nbformat": 4,
  "nbformat_minor": 0,
  "metadata": {
    "colab": {
      "provenance": [],
      "authorship_tag": "ABX9TyMbP4/KerRnAEUqX0hlii5M",
      "include_colab_link": true
    },
    "kernelspec": {
      "name": "python3",
      "display_name": "Python 3"
    },
    "language_info": {
      "name": "python"
    }
  },
  "cells": [
    {
      "cell_type": "markdown",
      "metadata": {
        "id": "view-in-github",
        "colab_type": "text"
      },
      "source": [
        "<a href=\"https://colab.research.google.com/github/Son324/Practice/blob/main/March_15th.ipynb\" target=\"_parent\"><img src=\"https://colab.research.google.com/assets/colab-badge.svg\" alt=\"Open In Colab\"/></a>"
      ]
    },
    {
      "cell_type": "markdown",
      "source": [
        "March 15th class\n",
        "---\n",
        "[Basic Learning]\n",
        "- Keyword: Text-to-Speech API: gTTs(Google Text-to-Speech)"
      ],
      "metadata": {
        "id": "egc60PI4RD2P"
      }
    },
    {
      "cell_type": "markdown",
      "source": [
        "Topic[1]: API(Application Programming Interface)"
      ],
      "metadata": {
        "id": "kmZwmhVkRc_Y"
      }
    },
    {
      "cell_type": "markdown",
      "source": [
        "😀 Installation, import libraries"
      ],
      "metadata": {
        "id": "2HmYVR9JVCpw"
      }
    },
    {
      "cell_type": "code",
      "source": [
        "!pip install gTTS\n",
        "from gtts import gTTS\n",
        "from IPython.display import Audio"
      ],
      "metadata": {
        "colab": {
          "base_uri": "https://localhost:8080/"
        },
        "id": "3N4-niV6Rwuv",
        "outputId": "0100dd69-9aca-4f56-d6f0-6291fba7d881"
      },
      "execution_count": 1,
      "outputs": [
        {
          "output_type": "stream",
          "name": "stdout",
          "text": [
            "Looking in indexes: https://pypi.org/simple, https://us-python.pkg.dev/colab-wheels/public/simple/\n",
            "Collecting gTTS\n",
            "  Downloading gTTS-2.3.2-py3-none-any.whl (28 kB)\n",
            "Requirement already satisfied: click<8.2,>=7.1 in /usr/local/lib/python3.10/dist-packages (from gTTS) (8.1.3)\n",
            "Requirement already satisfied: requests<3,>=2.27 in /usr/local/lib/python3.10/dist-packages (from gTTS) (2.27.1)\n",
            "Requirement already satisfied: idna<4,>=2.5 in /usr/local/lib/python3.10/dist-packages (from requests<3,>=2.27->gTTS) (3.4)\n",
            "Requirement already satisfied: urllib3<1.27,>=1.21.1 in /usr/local/lib/python3.10/dist-packages (from requests<3,>=2.27->gTTS) (1.26.15)\n",
            "Requirement already satisfied: certifi>=2017.4.17 in /usr/local/lib/python3.10/dist-packages (from requests<3,>=2.27->gTTS) (2022.12.7)\n",
            "Requirement already satisfied: charset-normalizer~=2.0.0 in /usr/local/lib/python3.10/dist-packages (from requests<3,>=2.27->gTTS) (2.0.12)\n",
            "Installing collected packages: gTTS\n",
            "Successfully installed gTTS-2.3.2\n"
          ]
        }
      ]
    },
    {
      "cell_type": "markdown",
      "source": [
        "😊 Defining a function"
      ],
      "metadata": {
        "id": "KPIf6UJXVKtR"
      }
    },
    {
      "cell_type": "code",
      "source": [
        "def tts(text):\n",
        "  gtts_object = gTTS(text,lang = \"en\", slow = True) \n",
        "  gtts_object.save(\"myaudio.mp3\")\n",
        "  return Audio(\"myaudio.mp3\")"
      ],
      "metadata": {
        "id": "QXuKqqzRR7wH"
      },
      "execution_count": 2,
      "outputs": []
    },
    {
      "cell_type": "code",
      "source": [
        "tts('Hello students')"
      ],
      "metadata": {
        "colab": {
          "base_uri": "https://localhost:8080/",
          "height": 74
        },
        "id": "KyaU-ipJSDj1",
        "outputId": "73f7c76d-7127-48f4-a536-e8587bcfdc89"
      },
      "execution_count": 4,
      "outputs": [
        {
          "output_type": "execute_result",
          "data": {
            "text/plain": [
              "<IPython.lib.display.Audio object>"
            ],
            "text/html": [
              "\n",
              "                <audio  controls=\"controls\" >\n",
              "                    <source src=\"data:audio/mpeg;base64,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\" type=\"audio/mpeg\" />\n",
              "                    Your browser does not support the audio element.\n",
              "                </audio>\n",
              "              "
            ]
          },
          "metadata": {},
          "execution_count": 4
        }
      ]
    },
    {
      "cell_type": "code",
      "source": [
        "mytext = input(\"Type text to generate audio: \")\n",
        "\n",
        "tts(mytext)"
      ],
      "metadata": {
        "colab": {
          "base_uri": "https://localhost:8080/",
          "height": 92
        },
        "id": "-Zxj4XuYTyyz",
        "outputId": "45109551-5911-41ab-dd9b-c7e751ed7a29"
      },
      "execution_count": 5,
      "outputs": [
        {
          "name": "stdout",
          "output_type": "stream",
          "text": [
            "Type text to generate audio: Hello\n"
          ]
        },
        {
          "output_type": "execute_result",
          "data": {
            "text/plain": [
              "<IPython.lib.display.Audio object>"
            ],
            "text/html": [
              "\n",
              "                <audio  controls=\"controls\" >\n",
              "                    <source src=\"data:audio/mpeg;base64,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\" type=\"audio/mpeg\" />\n",
              "                    Your browser does not support the audio element.\n",
              "                </audio>\n",
              "              "
            ]
          },
          "metadata": {},
          "execution_count": 5
        }
      ]
    },
    {
      "cell_type": "code",
      "source": [
        "def etts(text):\n",
        "  text_to_say = text\n",
        "\n",
        "  gtts_object = gTTS(text = text_to_say,\n",
        "                     lang = \"en\", tld = \"us\",\n",
        "                    slow = True)\n",
        "  \n",
        "  gtts_object.save(\"E-audio.mp3\")\n",
        "  return Audio(\"E-audio.mp3\")\n",
        "  #############################\n",
        "  def ktts(text):\n",
        "    text_to_say = text\n",
        "\n",
        "  gtts_object = gTTS(text = text_to_say,\n",
        "                     lang = \"ko\",\n",
        "                    slow = False)\n",
        "  \n",
        "  gtts_object.save(\"K-audio.mp3\")\n",
        "  return Audio(\"K-audio.mp3\")\n",
        "\n",
        "#######################\n",
        "\n",
        "def ftts(text):\n",
        "  text_to_say = text\n",
        "\n",
        "  gtts_object = gTTS(text = text_to_say,\n",
        "                     lang = \"fr\",\n",
        "                    slow = False)\n",
        "  \n",
        "  gtts_object.save(\"F-audio.mp3\")\n",
        "  return Audio(\"F-audio.mp3\")"
      ],
      "metadata": {
        "id": "bTj0LuwvUAJz"
      },
      "execution_count": 11,
      "outputs": []
    },
    {
      "cell_type": "code",
      "source": [
        "etts(\"Good morning\")"
      ],
      "metadata": {
        "colab": {
          "base_uri": "https://localhost:8080/",
          "height": 74
        },
        "id": "Oyxj4dzSVWAI",
        "outputId": "cb0fc8e0-6025-41dd-b3f2-ae339bbba05e"
      },
      "execution_count": 16,
      "outputs": [
        {
          "output_type": "execute_result",
          "data": {
            "text/plain": [
              "<IPython.lib.display.Audio object>"
            ],
            "text/html": [
              "\n",
              "                <audio  controls=\"controls\" >\n",
              "                    <source src=\"data:audio/mpeg;base64,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\" type=\"audio/mpeg\" />\n",
              "                    Your browser does not support the audio element.\n",
              "                </audio>\n",
              "              "
            ]
          },
          "metadata": {},
          "execution_count": 16
        }
      ]
    }
  ]
}